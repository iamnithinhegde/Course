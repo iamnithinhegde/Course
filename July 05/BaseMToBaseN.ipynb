{
 "cells": [
  {
   "cell_type": "code",
   "execution_count": 1,
   "metadata": {},
   "outputs": [],
   "source": [
    "def BaseNToBaseM(num, fromVal, toVal):\n",
    "    \n",
    "    digitMap = {'0': 0, '1': 1, '2': 2, '3': 3,\n",
    "                 '4': 4, '5': 5, '6': 6, '7': 7,\n",
    "                 '8': 8, '9': 9, 'A': 10, 'B': 11, 'C': 12}\n",
    "    digits = \"0123456789ABC\"\n",
    "\n",
    "\n",
    "    decimalValue = 0\n",
    "    num=num[::-1]\n",
    "    for i in range(len(num)):\n",
    "        if num[i] in digitMap:\n",
    "            decimalValue=decimalValue+digitMap[num[i]]*(fromVal**i)\n",
    "        else:\n",
    "            decimalValue=decimalValue+int(num[i])*(fromVal**i)\n",
    "\n",
    "    result = \"\"\n",
    "    while decimalValue > 0:\n",
    "        remainder = decimalValue % toVal\n",
    "        result = digits[remainder] + result\n",
    "        decimalValue = decimalValue//toVal\n",
    "\n",
    "    return result"
   ]
  },
  {
   "cell_type": "code",
   "execution_count": 4,
   "metadata": {},
   "outputs": [
    {
     "name": "stdout",
     "output_type": "stream",
     "text": [
      "5740\n"
     ]
    }
   ],
   "source": [
    "print(BaseNToBaseM(\"C1BA\", 10, 13))"
   ]
  },
  {
   "cell_type": "code",
   "execution_count": null,
   "metadata": {},
   "outputs": [],
   "source": []
  }
 ],
 "metadata": {
  "kernelspec": {
   "display_name": "Python3.10",
   "language": "python",
   "name": "python3.10"
  },
  "language_info": {
   "codemirror_mode": {
    "name": "ipython",
    "version": 3
   },
   "file_extension": ".py",
   "mimetype": "text/x-python",
   "name": "python",
   "nbconvert_exporter": "python",
   "pygments_lexer": "ipython3",
   "version": "3.10.14"
  },
  "toc": {
   "base_numbering": 1,
   "nav_menu": {},
   "number_sections": true,
   "sideBar": true,
   "skip_h1_title": false,
   "title_cell": "Table of Contents",
   "title_sidebar": "Contents",
   "toc_cell": false,
   "toc_position": {},
   "toc_section_display": true,
   "toc_window_display": false
  }
 },
 "nbformat": 4,
 "nbformat_minor": 2
}
