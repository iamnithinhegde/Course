{
 "cells": [
  {
   "cell_type": "markdown",
   "metadata": {},
   "source": [
    "<h1> CLONE </h1>\n",
    "git clone url(https)"
   ]
  },
  {
   "cell_type": "markdown",
   "metadata": {},
   "source": [
    "<h1> Initial Push </h1>\n",
    "<strong>cd to the folder <br>\n",
    "git add .   or git add -A</strong><br>\n",
    "git add .<br>\n",
    "Adds new or modified files in the current directory and its subdirectories.<br>\n",
    "Does not stage deletions of files that were removed.<br>\n",
    "✅ Good for adding only what’s under your current folder.<br>\n",
    "<br>\n",
    "git add -A (or git add --all)<br>\n",
    "Adds new, modified, and deleted files across the entire repo.<br>\n",
    "Works regardless of your current directory.<br>\n",
    "✅ Best for making sure everything, including deletions, is staged.<br>\n",
    "<strong>git commit -m \"message\"<br>\n",
    "git push</strong>\n"
   ]
  },
  {
   "cell_type": "markdown",
   "metadata": {},
   "source": [
    "<h1> Garbage Collection </h1>\n",
    "git gc"
   ]
  },
  {
   "cell_type": "markdown",
   "metadata": {},
   "source": [
    "<h1> Discard Local changes </h1>\n",
    "If you do not want your local changes and you want the code from the remote branch (e.g., from a pull request or a git pull)<br> \n",
    "to completely overwrite your local files,you can discard your local changes and pull the remote changes cleanly <br>\n",
    "using the following steps:<br>\n",
    "✅ Step-by-step:<br>\n",
    "Discard local changes (forcefully):<br>\n",
    "git reset --hard"
   ]
  },
  {
   "cell_type": "markdown",
   "metadata": {},
   "source": [
    "<h1> Check not staged files status </h1>\n",
    "git status <br>\n",
    "<br>\n",
    "git log - to get list of all commits<br>"
   ]
  },
  {
   "cell_type": "code",
   "execution_count": null,
   "metadata": {},
   "outputs": [],
   "source": []
  }
 ],
 "metadata": {
  "kernelspec": {
   "display_name": "Python3.10",
   "language": "python",
   "name": "python3.10"
  },
  "language_info": {
   "codemirror_mode": {
    "name": "ipython",
    "version": 3
   },
   "file_extension": ".py",
   "mimetype": "text/x-python",
   "name": "python",
   "nbconvert_exporter": "python",
   "pygments_lexer": "ipython3",
   "version": "3.10.14"
  },
  "toc": {
   "base_numbering": 1,
   "nav_menu": {},
   "number_sections": true,
   "sideBar": true,
   "skip_h1_title": false,
   "title_cell": "Table of Contents",
   "title_sidebar": "Contents",
   "toc_cell": false,
   "toc_position": {},
   "toc_section_display": true,
   "toc_window_display": false
  }
 },
 "nbformat": 4,
 "nbformat_minor": 2
}
